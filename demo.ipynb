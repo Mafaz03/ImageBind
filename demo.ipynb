{
 "cells": [
  {
   "cell_type": "code",
   "execution_count": 1,
   "id": "eca2884a",
   "metadata": {},
   "outputs": [
    {
     "name": "stderr",
     "output_type": "stream",
     "text": [
      "/Library/Frameworks/Python.framework/Versions/3.11/lib/python3.11/site-packages/torchvision/transforms/functional_tensor.py:5: UserWarning: The torchvision.transforms.functional_tensor module is deprecated in 0.15 and will be **removed in 0.17**. Please don't rely on it. You probably just need to use APIs in torchvision.transforms.functional or in torchvision.transforms.v2.functional.\n",
      "  warnings.warn(\n",
      "/Library/Frameworks/Python.framework/Versions/3.11/lib/python3.11/site-packages/torchvision/transforms/_functional_video.py:6: UserWarning: The 'torchvision.transforms._functional_video' module is deprecated since 0.12 and will be removed in the future. Please use the 'torchvision.transforms.functional' module instead.\n",
      "  warnings.warn(\n",
      "/Library/Frameworks/Python.framework/Versions/3.11/lib/python3.11/site-packages/torchvision/transforms/_transforms_video.py:22: UserWarning: The 'torchvision.transforms._transforms_video' module is deprecated since 0.12 and will be removed in the future. Please use the 'torchvision.transforms' module instead.\n",
      "  warnings.warn(\n"
     ]
    }
   ],
   "source": [
    "from preprocessing import load_and_transform_vision_data, load_and_transform_text, load_and_transform_video_data\n",
    "from model import ModalityType, ImageBindModel\n",
    "import torch"
   ]
  },
  {
   "cell_type": "code",
   "execution_count": null,
   "id": "4e572c87",
   "metadata": {},
   "outputs": [],
   "source": [
    "text_list = [\"cat\", \"dog\"]\n",
    "\n",
    "images = load_and_transform_vision_data(image_paths = \"Data/Image_Data\", device = \"cpu\")\n",
    "texts = load_and_transform_text(texts = text_list, device = \"cpu\")\n",
    "videos = load_and_transform_video_data(video_paths = \"Data/Video_Data\", device = \"cpu\")"
   ]
  },
  {
   "cell_type": "code",
   "execution_count": 3,
   "id": "b2193411",
   "metadata": {},
   "outputs": [
    {
     "name": "stdout",
     "output_type": "stream",
     "text": [
      "Loaded Images shape: torch.Size([2, 3, 224, 224])\n",
      "Loaded Texts shape: torch.Size([2, 77])\n",
      "Loaded Videos shape: torch.Size([2, 15, 3, 2, 224, 224])\n"
     ]
    }
   ],
   "source": [
    "print(f\"Loaded Images shape: {images.shape}\")\n",
    "print(f\"Loaded Texts shape: {texts.shape}\")\n",
    "print(f\"Loaded Videos shape: {videos.shape}\")"
   ]
  },
  {
   "cell_type": "code",
   "execution_count": 4,
   "id": "fedd250e",
   "metadata": {},
   "outputs": [],
   "source": [
    "inputs = {\n",
    "    ModalityType.TEXT: texts,\n",
    "    ModalityType.VISION: images,\n",
    "}\n",
    "model = ImageBindModel()\n",
    "with torch.no_grad():\n",
    "    embeddings = model(inputs)"
   ]
  },
  {
   "cell_type": "code",
   "execution_count": 5,
   "id": "36ccf01e",
   "metadata": {},
   "outputs": [
    {
     "data": {
      "text/plain": [
       "torch.Size([2, 768])"
      ]
     },
     "execution_count": 5,
     "metadata": {},
     "output_type": "execute_result"
    }
   ],
   "source": [
    "embeddings['vision'].shape"
   ]
  },
  {
   "cell_type": "code",
   "execution_count": 6,
   "id": "d8950f97",
   "metadata": {},
   "outputs": [
    {
     "data": {
      "text/plain": [
       "torch.Size([2, 768])"
      ]
     },
     "execution_count": 6,
     "metadata": {},
     "output_type": "execute_result"
    }
   ],
   "source": [
    "embeddings['text'].shape"
   ]
  },
  {
   "cell_type": "code",
   "execution_count": 23,
   "id": "8111e3a4",
   "metadata": {},
   "outputs": [
    {
     "name": "stdout",
     "output_type": "stream",
     "text": [
      "Vision x Text: \n",
      " tensor([[0.5000, 0.5000],\n",
      "        [0.5000, 0.5000]])\n",
      "cat\n",
      "cat\n"
     ]
    }
   ],
   "source": [
    "vision_x_text = torch.softmax(embeddings[ModalityType.VISION] @ embeddings[ModalityType.TEXT].T, dim=-1)\n",
    "\n",
    "print(\n",
    "    \"Vision x Text: \\n\",\n",
    "    vision_x_text\n",
    ")\n",
    "\n",
    "predict_idx = vision_x_text.argmax(1)\n",
    "\n",
    "for i in predict_idx:\n",
    "    print(text_list[int(i)])"
   ]
  }
 ],
 "metadata": {
  "kernelspec": {
   "display_name": "Python 3",
   "language": "python",
   "name": "python3"
  },
  "language_info": {
   "codemirror_mode": {
    "name": "ipython",
    "version": 3
   },
   "file_extension": ".py",
   "mimetype": "text/x-python",
   "name": "python",
   "nbconvert_exporter": "python",
   "pygments_lexer": "ipython3",
   "version": "3.11.5"
  }
 },
 "nbformat": 4,
 "nbformat_minor": 5
}
