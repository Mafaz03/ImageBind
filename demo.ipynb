{
 "cells": [
  {
   "cell_type": "code",
   "execution_count": 30,
   "id": "eca2884a",
   "metadata": {},
   "outputs": [],
   "source": [
    "from preprocessing import load_and_transform_vision_data, load_and_transform_text, load_and_transform_video_data\n",
    "from model import ModalityType, ImageBindModel\n",
    "import torch"
   ]
  },
  {
   "cell_type": "code",
   "execution_count": 16,
   "id": "4e572c87",
   "metadata": {},
   "outputs": [],
   "source": [
    "images = load_and_transform_vision_data(image_paths = \"Data/Image_Data\", device = \"cpu\")\n",
    "texts = load_and_transform_text(texts = [\"cat\", \"dog\"], device = \"cpu\")\n",
    "texts = texts.squeeze(dim = 1)\n",
    "videos = load_and_transform_video_data(video_paths = \"Data/Video_Data\", device = \"cpu\")"
   ]
  },
  {
   "cell_type": "code",
   "execution_count": 17,
   "id": "b2193411",
   "metadata": {},
   "outputs": [
    {
     "name": "stdout",
     "output_type": "stream",
     "text": [
      "Loaded Images shape: torch.Size([2, 3, 224, 224])\n",
      "Loaded Texts shape: torch.Size([2, 77])\n",
      "Loaded Videos shape: torch.Size([2, 15, 3, 2, 224, 224])\n"
     ]
    }
   ],
   "source": [
    "print(f\"Loaded Images shape: {images.shape}\")\n",
    "print(f\"Loaded Texts shape: {texts.shape}\")\n",
    "print(f\"Loaded Videos shape: {videos.shape}\")"
   ]
  },
  {
   "cell_type": "code",
   "execution_count": null,
   "id": "fedd250e",
   "metadata": {},
   "outputs": [],
   "source": [
    "inputs = {\n",
    "    ModalityType.TEXT: texts,\n",
    "    ModalityType.VISION: images,\n",
    "}\n",
    "model = ImageBindModel()\n",
    "with torch.no_grad():\n",
    "    embeddings = model(inputs)"
   ]
  },
  {
   "cell_type": "code",
   "execution_count": 29,
   "id": "36ccf01e",
   "metadata": {},
   "outputs": [
    {
     "data": {
      "text/plain": [
       "torch.Size([2, 768])"
      ]
     },
     "execution_count": 29,
     "metadata": {},
     "output_type": "execute_result"
    }
   ],
   "source": [
    "embeddings['vision'].shape"
   ]
  },
  {
   "cell_type": "code",
   "execution_count": 25,
   "id": "d8950f97",
   "metadata": {},
   "outputs": [
    {
     "data": {
      "text/plain": [
       "torch.Size([2, 768])"
      ]
     },
     "execution_count": 25,
     "metadata": {},
     "output_type": "execute_result"
    }
   ],
   "source": [
    "embeddings['text'].shape"
   ]
  },
  {
   "cell_type": "code",
   "execution_count": null,
   "id": "8111e3a4",
   "metadata": {},
   "outputs": [
    {
     "name": "stdout",
     "output_type": "stream",
     "text": [
      "Vision x Text: \n",
      " tensor([[0.5000, 0.5000],\n",
      "        [0.5000, 0.5000]], grad_fn=<SoftmaxBackward0>)\n"
     ]
    }
   ],
   "source": [
    "print(\n",
    "    \"Vision x Text: \\n\",\n",
    "    torch.softmax(embeddings[ModalityType.VISION] @ embeddings[ModalityType.TEXT].T, dim=-1),\n",
    ")"
   ]
  }
 ],
 "metadata": {
  "kernelspec": {
   "display_name": "Python 3",
   "language": "python",
   "name": "python3"
  },
  "language_info": {
   "codemirror_mode": {
    "name": "ipython",
    "version": 3
   },
   "file_extension": ".py",
   "mimetype": "text/x-python",
   "name": "python",
   "nbconvert_exporter": "python",
   "pygments_lexer": "ipython3",
   "version": "3.11.5"
  }
 },
 "nbformat": 4,
 "nbformat_minor": 5
}
