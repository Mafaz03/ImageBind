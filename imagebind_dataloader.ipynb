{
 "cells": [
  {
   "cell_type": "code",
   "execution_count": null,
   "id": "118ca3b3",
   "metadata": {},
   "outputs": [],
   "source": [
    "import torch\n",
    "from torch import nn\n",
    "from config import IMAGE_TRANSFORM, VIDEO_TRANSFORM\n",
    "from torch.utils.data import Dataset, DataLoader\n",
    "import PIL\n",
    "from PIL import Image\n",
    "import os\n",
    "from preprocessing import uniform_crop, Spacial_Crop, get_clip_timepoints\n",
    "import matplotlib.pyplot as plt\n",
    "import clip\n",
    "\n",
    "from pytorchvideo.data.clip_sampling import ConstantClipsPerVideoSampler\n",
    "from pytorchvideo import transforms as pv_transforms\n",
    "from pytorchvideo.data.encoded_video import EncodedVideo\n",
    "import av"
   ]
  },
  {
   "cell_type": "code",
   "execution_count": 43,
   "id": "3a15c6cf",
   "metadata": {},
   "outputs": [],
   "source": [
    "def load_and_transform_text(texts, device=\"cpu\"):\n",
    "    if texts is None: return None\n",
    "    tokens = [clip.tokenize(text).unsqueeze(0).to(device) for text in texts]\n",
    "    tokens = torch.cat(tokens, dim=0)\n",
    "    tokens = tokens.squeeze(dim = 1)\n",
    "    return tokens"
   ]
  },
  {
   "cell_type": "code",
   "execution_count": 46,
   "id": "8e293d95",
   "metadata": {},
   "outputs": [
    {
     "data": {
      "text/plain": [
       "torch.Size([3, 77])"
      ]
     },
     "execution_count": 46,
     "metadata": {},
     "output_type": "execute_result"
    }
   ],
   "source": [
    "class ImageText_DataLoader(Dataset):\n",
    "    def __init__(self, image_paths, transform, device = \"cpu\"):\n",
    "        super().__init__()\n",
    "        \n",
    "        if image_paths is None: return None\n",
    "        \n",
    "        self.image_outputs = []\n",
    "        self.text_outputs = []\n",
    "\n",
    "        for image_path in os.listdir(image_paths):\n",
    "            if image_path.endswith(\".jpg\") or image_path.endswith(\".jpeg\") or image_path.endswith(\".png\"):\n",
    "                with open(os.path.join(image_paths, image_path), \"rb\") as im:\n",
    "                    image = Image.open(im).convert(\"RGB\")\n",
    "                    image = transform(img = image)\n",
    "                    self.image_outputs.append(image)\n",
    "                    self.text_outputs.append(image_path.split('.')[0])\n",
    "        self.text_outputs = load_and_transform_text(self.text_outputs)\n",
    "        # return torch.stack(image_outputs, dim=0)\n",
    "\n",
    "    def __len__(self):\n",
    "        return len(self.image_outputs) or len(self.text_outputs)\n",
    "    \n",
    "    def __getitem__(self, index):\n",
    "        return (self.image_outputs[index], self.text_outputs[index])\n",
    "\n",
    "ds = ImageText_DataLoader(image_paths = \"Data/Image_Data\", transform = IMAGE_TRANSFORM)\n",
    "dl = DataLoader(ds, batch_size=3)\n",
    "next(iter(dl))[1].shape"
   ]
  },
  {
   "cell_type": "code",
   "execution_count": null,
   "id": "78b57db0",
   "metadata": {},
   "outputs": [
    {
     "data": {
      "text/plain": [
       "torch.Size([2, 15, 3, 2, 224, 224])"
      ]
     },
     "execution_count": 52,
     "metadata": {},
     "output_type": "execute_result"
    }
   ],
   "source": [
    "class VideoText_DataLoader(Dataset):\n",
    "    def __init__(self, video_paths: str, transform, clip_duration=2, clips_per_video=5, device = \"cpu\"):\n",
    "        super().__init__()\n",
    "\n",
    "        self.video_outputs = []\n",
    "        self.text_outputs = []\n",
    "        \n",
    "        video_transform = transform\n",
    "\n",
    "        clip_sampler = ConstantClipsPerVideoSampler(\n",
    "            clip_duration=clip_duration, clips_per_video=clips_per_video, \n",
    "        )\n",
    "\n",
    "        frame_sampler = pv_transforms.UniformTemporalSubsample(num_samples=2)\n",
    "        for video_path in os.listdir(video_paths): \n",
    "            if video_path.endswith(\".mp4\"):\n",
    "                encoded_video = EncodedVideo.from_path(\n",
    "                    file_path=f\"Data/Video_Data/{video_path}\",\n",
    "                    decode_audio=False,\n",
    "                    decoder=\"pyav\"\n",
    "                )\n",
    "\n",
    "                all_frames = []\n",
    "\n",
    "                clip_time_points = get_clip_timepoints(clip_sampler=clip_sampler, duration=encoded_video.duration)\n",
    "\n",
    "                for clip_time_point in clip_time_points:\n",
    "                    clip = encoded_video.get_clip(clip_time_point[0], clip_time_point[1])\n",
    "                    if clip is None: ValueError(\"No Clip Found\") \n",
    "                    frames = frame_sampler(clip[\"video\"]) / 255.0\n",
    "\n",
    "                    all_frames.append(frames)\n",
    "                all_videos = [video_transform(frame) for frame in all_frames]\n",
    "                self.video_outputs.append(Spacial_Crop(crop_size = 224, num_crops = 3)(all_videos))\n",
    "                self.text_outputs.append(video_path.split('.')[0])\n",
    "        self.text_outputs = load_and_transform_text(self.text_outputs)\n",
    "\n",
    "    def __len__(self):\n",
    "        return len(self.video_outputs)\n",
    "    \n",
    "    def __getitem__(self, index):\n",
    "        return self.video_outputs[index], self.text_outputs[index]\n",
    "\n",
    "ds = VideoText_DataLoader(video_paths = \"Data/Video_Data\", transform = VIDEO_TRANSFORM)\n",
    "dl = DataLoader(ds, batch_size=3)\n",
    "next(iter(dl))[0].shape"
   ]
  },
  {
   "cell_type": "code",
   "execution_count": 53,
   "id": "8eeb587b",
   "metadata": {},
   "outputs": [
    {
     "data": {
      "text/plain": [
       "torch.Size([2, 77])"
      ]
     },
     "execution_count": 53,
     "metadata": {},
     "output_type": "execute_result"
    }
   ],
   "source": [
    "next(iter(dl))[1].shape"
   ]
  },
  {
   "cell_type": "code",
   "execution_count": null,
   "id": "466dea51",
   "metadata": {},
   "outputs": [],
   "source": []
  },
  {
   "cell_type": "code",
   "execution_count": null,
   "id": "ac76b045",
   "metadata": {},
   "outputs": [],
   "source": []
  },
  {
   "cell_type": "code",
   "execution_count": null,
   "id": "1996cfbd",
   "metadata": {},
   "outputs": [],
   "source": []
  }
 ],
 "metadata": {
  "kernelspec": {
   "display_name": "Python 3",
   "language": "python",
   "name": "python3"
  },
  "language_info": {
   "codemirror_mode": {
    "name": "ipython",
    "version": 3
   },
   "file_extension": ".py",
   "mimetype": "text/x-python",
   "name": "python",
   "nbconvert_exporter": "python",
   "pygments_lexer": "ipython3",
   "version": "3.11.5"
  }
 },
 "nbformat": 4,
 "nbformat_minor": 5
}
