{
 "cells": [
  {
   "cell_type": "code",
   "execution_count": 28,
   "id": "0bed2249",
   "metadata": {},
   "outputs": [],
   "source": [
    "import torch\n",
    "from torch import nn\n",
    "import numpy as np\n",
    "from typing import Callable, List, Optional\n",
    "from timm.models.layers import DropPath"
   ]
  },
  {
   "cell_type": "code",
   "execution_count": 75,
   "id": "00b91a14",
   "metadata": {},
   "outputs": [
    {
     "data": {
      "text/plain": [
       "torch.Size([6, 49, 768])"
      ]
     },
     "execution_count": 75,
     "metadata": {},
     "output_type": "execute_result"
    }
   ],
   "source": [
    "class Attention(nn.Module):\n",
    "    def __init__(self, dim, num_heads: int = 8, qkv_bias=False, qk_scale=None, attn_drop=0.0, proj_drop=0.0, attn_mask=None):\n",
    "        super().__init__()\n",
    "        \n",
    "        self.num_heads = num_heads\n",
    "        head_dim = dim // num_heads\n",
    "\n",
    "        self.scale = qk_scale or head_dim**-0.5\n",
    "\n",
    "        self.qkv = nn.Linear(in_features=dim, out_features=dim*3, bias=qkv_bias)\n",
    "        self.attn_drop = nn.Dropout(attn_drop)\n",
    "        self.proj = nn.Linear(dim, dim)\n",
    "        self.proj_drop = nn.Dropout(proj_drop)\n",
    "\n",
    "    def forward(self, x): \n",
    "        B, N, C = x.shape # B = Batch size, N = Number of Tokens, C = Channels or Feature Dimensions\n",
    "        qkv = self.qkv(x).reshape(B, N, 3, self.num_heads, C // self.num_heads) # (B, N, C) -> (B, N, 3, num_heads, head_dim) \n",
    "        qkv = (qkv.permute(2, 0, 3, 1, 4)) # (B, N, 3, num_heads, head_dim) -> (3, B, num_heads, N, head_dim)\n",
    "        q = qkv[0] # (B, num_heads, N, head_dim)\n",
    "        k = qkv[1] # (B, num_heads, N, head_dim)\n",
    "        v = qkv[2] # (B, num_heads, N, head_dim)\n",
    "\n",
    "        attn = q @ k.transpose(-2, -1) * self.scale  # Attention scores: (B, num_heads, N, N)\n",
    "        attn = attn.softmax(dim=-1) # Softmax across tokens (last dim, N)\n",
    "        attn = self.attn_drop(attn)\n",
    "\n",
    "        x = (attn @ v).transpose(1,2) # (B, num_heads, N, head_dim) -> (B, N, num_heads, head_dim)\n",
    "        x = x.reshape(B, N, C) # (B, N, num_heads, head_dim) -> (B, N, C)\n",
    "        x = self.proj_drop(x)\n",
    "        return x\n",
    "    \n",
    "attention = Attention(dim = 768)\n",
    "x = torch.rand(6, 49, 768)\n",
    "attention(x).shape"
   ]
  },
  {
   "cell_type": "code",
   "execution_count": 3,
   "id": "bc7c5efe",
   "metadata": {},
   "outputs": [
    {
     "data": {
      "text/plain": [
       "torch.Size([3, 200])"
      ]
     },
     "execution_count": 3,
     "metadata": {},
     "output_type": "execute_result"
    }
   ],
   "source": [
    "class MLP(nn.Module):\n",
    "    def __init__(self, in_features, out_features = None, hidden_features = None, act_layer = nn.GELU, drop = 0.0):\n",
    "        super().__init__()\n",
    "\n",
    "        out_features = out_features or in_features\n",
    "        hidden_features = hidden_features or in_features\n",
    "        \n",
    "        self.fc1 = nn.Linear(in_features, hidden_features)\n",
    "        self.act = act_layer()\n",
    "        self.fc2 = nn.Linear(hidden_features, out_features)\n",
    "        self.drop = nn.Dropout(drop)\n",
    "    \n",
    "    def forward(self, x):\n",
    "        x = self.fc1(x)\n",
    "        x = self.act(x)\n",
    "        x = self.fc2(x)\n",
    "        x = self.drop(x)\n",
    "        return x\n",
    "\n",
    "x = torch.rand(3, 224)\n",
    "mlp = MLP(in_features=224, hidden_features=5, out_features=200)\n",
    "mlp(x).shape"
   ]
  },
  {
   "cell_type": "code",
   "execution_count": 81,
   "id": "d69c2e77",
   "metadata": {},
   "outputs": [
    {
     "data": {
      "text/plain": [
       "torch.Size([49, 5, 768])"
      ]
     },
     "execution_count": 81,
     "metadata": {},
     "output_type": "execute_result"
    }
   ],
   "source": [
    "class MultiheadAttention(nn.MultiheadAttention):\n",
    "    def forward(self, x: torch.Tensor, attn_mask: torch.Tensor):\n",
    "        return super().forward(x, x, x, attn_mask=attn_mask)[0]\n",
    "\n",
    "attn_layer = MultiheadAttention(embed_dim=768, num_heads=8)\n",
    "x = torch.rand(49, 5, 768)\n",
    "\n",
    "attn_mask = torch.triu(torch.ones(49, 49), diagonal=1)\n",
    "attn_mask = attn_mask.masked_fill(attn_mask == 1, float('-inf'))\n",
    "attn_mask = attn_mask.masked_fill(attn_mask == 0, float(0.0))\n",
    "\n",
    "output = attn_layer(x, attn_mask)\n",
    "output.shape\n"
   ]
  },
  {
   "cell_type": "code",
   "execution_count": null,
   "id": "8b10674e",
   "metadata": {},
   "outputs": [
    {
     "data": {
      "text/plain": [
       "torch.Size([2, 49, 768])"
      ]
     },
     "execution_count": 108,
     "metadata": {},
     "output_type": "execute_result"
    }
   ],
   "source": [
    "class BlockWithMasking(nn.Module):\n",
    "    def __init__(self, dim, attn_target: Callable, mlp_ratio: int = 4, act_layer: Callable = nn.GELU, \n",
    "                 norm_layer: Callable = nn.LayerNorm, ffn_dropout_rate: float = 0.0, drop_path: float = 0.0, \n",
    "                 layer_scale_type = None, layer_scale_init_value: float = 1e-4):\n",
    "        \n",
    "        super().__init__()\n",
    "        assert isinstance(attn_layer, nn.Module), f\"attn_target should be a Callable. Otherwise attn_target is shared across blocks!\"\n",
    "        \n",
    "        self.attn = attn_target\n",
    "        if drop_path > 0.0: self.drop_path = DropPath(drop_prob=drop_path)\n",
    "        else: self.drop_path = nn.Identity()\n",
    "\n",
    "        self.norm1 = norm_layer(dim)\n",
    "        mlp_hidden_dim = int(mlp_ratio * dim)\n",
    "        self.mlp = MLP(\n",
    "            in_features=dim,\n",
    "            hidden_features=mlp_hidden_dim,\n",
    "            out_features=dim,\n",
    "\n",
    "            act_layer = act_layer,\n",
    "            drop = ffn_dropout_rate\n",
    "        )\n",
    "\n",
    "        self.norm2 = norm_layer(dim)\n",
    "\n",
    "        self.layer_scale_type = layer_scale_type\n",
    "        if self.layer_scale_type is not None:\n",
    "            assert self.layer_scale_type in [\"per_channel\", \"scalar\"], f\"Found layer_scale_type to be {self.layer_scale_type}; should be either `per_channel`, `scalar`\"\n",
    "            if self.layer_scale_type == \"per_channel\":\n",
    "                gamma_shape = [1, 1, dim]\n",
    "            else: gamma_shape = [1, 1, 1]\n",
    "            self.layer_scale_gamma1 = nn.Parameter(\n",
    "                torch.ones(size = gamma_shape) * layer_scale_init_value,\n",
    "                requires_grad=True\n",
    "            )\n",
    "            self.layer_scale_gamma2 = nn.Parameter(\n",
    "                torch.ones(size = gamma_shape) * layer_scale_init_value,\n",
    "                requires_grad=True\n",
    "            )\n",
    "        else: \n",
    "            self.layer_scale_gamma1 = nn.Identity()\n",
    "            self.layer_scale_gamma2 = nn.Identity()\n",
    "\n",
    "    def forward(self, x: torch.Tensor, attn_mask:torch.Tensor):\n",
    "        x = self.norm1(x)\n",
    "        if isinstance(self.attn, MultiheadAttention): # torch's MultiheadAttention processes (N, B, C)\n",
    "            x = self.attn(x.permute(1,0,2), attn_mask)\n",
    "            x = x.permute(1,0,2)\n",
    "        else: \n",
    "            x = self.attn(x, attn_mask)\n",
    "\n",
    "        x = x + self.drop_path(x)\n",
    "        x = (x * self.layer_scale_gamma1)\n",
    "\n",
    "        x = self.norm2(x)\n",
    "        x = self.mlp(x)\n",
    "        x = self.drop_path(x)\n",
    "        x = x * self.layer_scale_gamma2\n",
    "        \n",
    "        return x\n",
    "\n",
    "dim = 768\n",
    "num_heads = 8\n",
    "tokens = 49\n",
    "batch_size = 2\n",
    "x = torch.rand(batch_size, tokens, dim)\n",
    "attn_target = MultiheadAttention(embed_dim=dim, num_heads=num_heads)\n",
    "\n",
    "blockwithmaskig = BlockWithMasking(dim = dim, attn_target=attn_target, layer_scale_type=\"per_channel\")\n",
    "\n",
    "attn_layer = MultiheadAttention(embed_dim = dim, num_heads = num_heads)\n",
    "attn_mask = torch.triu(torch.ones(tokens, tokens), diagonal=1)\n",
    "attn_mask = attn_mask.masked_fill(attn_mask == 1, float('-inf'))\n",
    "attn_mask = attn_mask.masked_fill(attn_mask == 0, float(0.0))\n",
    "\n",
    "output = blockwithmaskig(x, attn_mask)\n",
    "output.shape\n"
   ]
  },
  {
   "cell_type": "code",
   "execution_count": 103,
   "id": "83034fd7",
   "metadata": {},
   "outputs": [
    {
     "data": {
      "text/plain": [
       "torch.Size([2, 49, 768])"
      ]
     },
     "execution_count": 103,
     "metadata": {},
     "output_type": "execute_result"
    }
   ],
   "source": [
    "output.permute(1,0,2).shape"
   ]
  },
  {
   "cell_type": "code",
   "execution_count": 84,
   "id": "444ba78b",
   "metadata": {},
   "outputs": [
    {
     "data": {
      "text/plain": [
       "tensor([[[ 0.2907, -0.1710,  0.0714,  0.2417, -0.2110, -0.4061, -0.2756,\n",
       "           0.0812]],\n",
       "\n",
       "        [[ 0.1078, -0.1417,  0.0392,  0.2496, -0.2377, -0.4312, -0.1947,\n",
       "           0.0795]],\n",
       "\n",
       "        [[ 0.0292, -0.2555, -0.0110,  0.2481, -0.2067, -0.4454, -0.1864,\n",
       "           0.0585]],\n",
       "\n",
       "        [[ 0.0208, -0.2861,  0.0100,  0.2736, -0.2639, -0.4570, -0.2389,\n",
       "           0.0675]]], grad_fn=<ViewBackward0>)"
      ]
     },
     "execution_count": 84,
     "metadata": {},
     "output_type": "execute_result"
    }
   ],
   "source": [
    "attn_layer = MultiheadAttention(embed_dim=8, num_heads=8)\n",
    "x = torch.rand(4, 1, 8)\n",
    "\n",
    "attn_mask = torch.triu(torch.ones(4, 4), diagonal=1)\n",
    "attn_mask = attn_mask.masked_fill(attn_mask == 1, float('-inf'))\n",
    "attn_mask = attn_mask.masked_fill(attn_mask == 0, float(0.0))\n",
    "output = attn_layer(x, attn_mask)\n",
    "output"
   ]
  },
  {
   "cell_type": "code",
   "execution_count": null,
   "id": "c0f6649d",
   "metadata": {},
   "outputs": [],
   "source": []
  },
  {
   "cell_type": "code",
   "execution_count": null,
   "id": "8a1fa3be",
   "metadata": {},
   "outputs": [],
   "source": []
  },
  {
   "cell_type": "code",
   "execution_count": null,
   "id": "8b8f6978",
   "metadata": {},
   "outputs": [],
   "source": []
  }
 ],
 "metadata": {
  "kernelspec": {
   "display_name": "Python 3",
   "language": "python",
   "name": "python3"
  },
  "language_info": {
   "codemirror_mode": {
    "name": "ipython",
    "version": 3
   },
   "file_extension": ".py",
   "mimetype": "text/x-python",
   "name": "python",
   "nbconvert_exporter": "python",
   "pygments_lexer": "ipython3",
   "version": "3.11.5"
  }
 },
 "nbformat": 4,
 "nbformat_minor": 5
}
