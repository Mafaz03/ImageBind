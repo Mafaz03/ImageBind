{
 "cells": [
  {
   "cell_type": "code",
   "execution_count": 8,
   "id": "0bed2249",
   "metadata": {},
   "outputs": [],
   "source": [
    "import torch\n",
    "from torch import nn\n",
    "import numpy as np\n",
    "from typing import Callable, List, Optional\n",
    "from timm.models.layers import DropPath, trunc_normal_\n",
    "from functools import partial"
   ]
  },
  {
   "cell_type": "code",
   "execution_count": 2,
   "id": "00b91a14",
   "metadata": {},
   "outputs": [
    {
     "data": {
      "text/plain": [
       "torch.Size([6, 49, 768])"
      ]
     },
     "execution_count": 2,
     "metadata": {},
     "output_type": "execute_result"
    }
   ],
   "source": [
    "class Attention(nn.Module):\n",
    "    def __init__(self, dim, num_heads: int = 8, qkv_bias=False, qk_scale=None, attn_drop=0.0, proj_drop=0.0, attn_mask=None):\n",
    "        super().__init__()\n",
    "        \n",
    "        self.num_heads = num_heads\n",
    "        head_dim = dim // num_heads\n",
    "\n",
    "        self.scale = qk_scale or head_dim**-0.5\n",
    "\n",
    "        self.qkv = nn.Linear(in_features=dim, out_features=dim*3, bias=qkv_bias)\n",
    "        self.attn_drop = nn.Dropout(attn_drop)\n",
    "        self.proj = nn.Linear(dim, dim)\n",
    "        self.proj_drop = nn.Dropout(proj_drop)\n",
    "\n",
    "    def forward(self, x): \n",
    "        B, N, C = x.shape # B = Batch size, N = Number of Tokens, C = Channels or Feature Dimensions\n",
    "        qkv = self.qkv(x).reshape(B, N, 3, self.num_heads, C // self.num_heads) # (B, N, C) -> (B, N, 3, num_heads, head_dim) \n",
    "        qkv = (qkv.permute(2, 0, 3, 1, 4)) # (B, N, 3, num_heads, head_dim) -> (3, B, num_heads, N, head_dim)\n",
    "        q = qkv[0] # (B, num_heads, N, head_dim)\n",
    "        k = qkv[1] # (B, num_heads, N, head_dim)\n",
    "        v = qkv[2] # (B, num_heads, N, head_dim)\n",
    "\n",
    "        attn = q @ k.transpose(-2, -1) * self.scale  # Attention scores: (B, num_heads, N, N)\n",
    "        attn = attn.softmax(dim=-1) # Softmax across tokens (last dim, N)\n",
    "        attn = self.attn_drop(attn)\n",
    "\n",
    "        x = (attn @ v).transpose(1,2) # (B, num_heads, N, head_dim) -> (B, N, num_heads, head_dim)\n",
    "        x = x.reshape(B, N, C) # (B, N, num_heads, head_dim) -> (B, N, C)\n",
    "        x = self.proj_drop(x)\n",
    "        return x\n",
    "    \n",
    "attention = Attention(dim = 768)\n",
    "x = torch.rand(6, 49, 768)\n",
    "attention(x).shape"
   ]
  },
  {
   "cell_type": "code",
   "execution_count": 3,
   "id": "bc7c5efe",
   "metadata": {},
   "outputs": [
    {
     "data": {
      "text/plain": [
       "torch.Size([3, 200])"
      ]
     },
     "execution_count": 3,
     "metadata": {},
     "output_type": "execute_result"
    }
   ],
   "source": [
    "class MLP(nn.Module):\n",
    "    def __init__(self, in_features, out_features = None, hidden_features = None, act_layer = nn.GELU, drop = 0.0):\n",
    "        super().__init__()\n",
    "\n",
    "        out_features = out_features or in_features\n",
    "        hidden_features = hidden_features or in_features\n",
    "        \n",
    "        self.fc1 = nn.Linear(in_features, hidden_features)\n",
    "        self.act = act_layer()\n",
    "        self.fc2 = nn.Linear(hidden_features, out_features)\n",
    "        self.drop = nn.Dropout(drop)\n",
    "    \n",
    "    def forward(self, x):\n",
    "        x = self.fc1(x)\n",
    "        x = self.act(x)\n",
    "        x = self.fc2(x)\n",
    "        x = self.drop(x)\n",
    "        return x\n",
    "\n",
    "x = torch.rand(3, 224)\n",
    "mlp = MLP(in_features=224, hidden_features=5, out_features=200)\n",
    "mlp(x).shape"
   ]
  },
  {
   "cell_type": "code",
   "execution_count": 4,
   "id": "d69c2e77",
   "metadata": {},
   "outputs": [
    {
     "data": {
      "text/plain": [
       "torch.Size([49, 5, 768])"
      ]
     },
     "execution_count": 4,
     "metadata": {},
     "output_type": "execute_result"
    }
   ],
   "source": [
    "class MultiheadAttention(nn.MultiheadAttention):\n",
    "    def forward(self, x: torch.Tensor, attn_mask: torch.Tensor):\n",
    "        return super().forward(x, x, x, attn_mask=attn_mask)[0]\n",
    "\n",
    "attn_layer = MultiheadAttention(embed_dim=768, num_heads=8)\n",
    "x = torch.rand(49, 5, 768)\n",
    "\n",
    "attn_mask = torch.triu(torch.ones(49, 49), diagonal=1)\n",
    "attn_mask = attn_mask.masked_fill(attn_mask == 1, float('-inf'))\n",
    "attn_mask = attn_mask.masked_fill(attn_mask == 0, float(0.0))\n",
    "\n",
    "output = attn_layer(x, attn_mask)\n",
    "output.shape\n"
   ]
  },
  {
   "cell_type": "code",
   "execution_count": 5,
   "id": "8b10674e",
   "metadata": {},
   "outputs": [
    {
     "data": {
      "text/plain": [
       "torch.Size([2, 49, 768])"
      ]
     },
     "execution_count": 5,
     "metadata": {},
     "output_type": "execute_result"
    }
   ],
   "source": [
    "class BlockWithMasking(nn.Module):\n",
    "    def __init__(self, dim, attn_target: Callable, mlp_ratio: int = 4, act_layer: Callable = nn.GELU, \n",
    "                 norm_layer: Callable = nn.LayerNorm, ffn_dropout_rate: float = 0.0, drop_path: float = 0.0, \n",
    "                 layer_scale_type = None, layer_scale_init_value: float = 1e-4):\n",
    "        \n",
    "        super().__init__()\n",
    "        assert isinstance(attn_layer, nn.Module), f\"attn_target should be a Callable. Otherwise attn_target is shared across blocks!\"\n",
    "        \n",
    "        self.attn = attn_target\n",
    "        if drop_path > 0.0: self.drop_path = DropPath(drop_prob=drop_path)\n",
    "        else: self.drop_path = nn.Identity()\n",
    "\n",
    "        self.norm1 = norm_layer(dim)\n",
    "        mlp_hidden_dim = int(mlp_ratio * dim)\n",
    "        self.mlp = MLP(\n",
    "            in_features=dim,\n",
    "            hidden_features=mlp_hidden_dim,\n",
    "            out_features=dim,\n",
    "\n",
    "            act_layer = act_layer,\n",
    "            drop = ffn_dropout_rate\n",
    "        )\n",
    "\n",
    "        self.norm2 = norm_layer(dim)\n",
    "\n",
    "        self.layer_scale_type = layer_scale_type\n",
    "        if self.layer_scale_type is not None:\n",
    "            assert self.layer_scale_type in [\"per_channel\", \"scalar\"], f\"Found layer_scale_type to be {self.layer_scale_type}; should be either `per_channel`, `scalar`\"\n",
    "            if self.layer_scale_type == \"per_channel\":\n",
    "                gamma_shape = [1, 1, dim]\n",
    "            else: gamma_shape = [1, 1, 1]\n",
    "            self.layer_scale_gamma1 = nn.Parameter(\n",
    "                torch.ones(size = gamma_shape) * layer_scale_init_value,\n",
    "                requires_grad=True\n",
    "            )\n",
    "            self.layer_scale_gamma2 = nn.Parameter(\n",
    "                torch.ones(size = gamma_shape) * layer_scale_init_value,\n",
    "                requires_grad=True\n",
    "            )\n",
    "        else: \n",
    "            self.layer_scale_gamma1 = nn.Identity()\n",
    "            self.layer_scale_gamma2 = nn.Identity()\n",
    "\n",
    "    def forward(self, x: torch.Tensor, attn_mask:torch.Tensor):\n",
    "        x = self.norm1(x)\n",
    "        if isinstance(self.attn, MultiheadAttention): # torch's MultiheadAttention processes (N, B, C)\n",
    "            x = self.attn(x.permute(1,0,2), attn_mask)\n",
    "            x = x.permute(1,0,2)\n",
    "        else: \n",
    "            x = self.attn(x, attn_mask)\n",
    "\n",
    "        x = x + self.drop_path(x)\n",
    "        x = (x * self.layer_scale_gamma1)\n",
    "\n",
    "        x = self.norm2(x)\n",
    "        x = self.mlp(x)\n",
    "        x = self.drop_path(x)\n",
    "        x = x * self.layer_scale_gamma2\n",
    "        \n",
    "        return x\n",
    "\n",
    "dim = 768\n",
    "num_heads = 8\n",
    "tokens = 49\n",
    "batch_size = 2\n",
    "x = torch.rand(batch_size, tokens, dim)\n",
    "attn_target = MultiheadAttention(embed_dim=dim, num_heads=num_heads)\n",
    "\n",
    "blockwithmaskig = BlockWithMasking(dim = dim, attn_target=attn_target, layer_scale_type=\"per_channel\")\n",
    "\n",
    "attn_layer = MultiheadAttention(embed_dim = dim, num_heads = num_heads)\n",
    "attn_mask = torch.triu(torch.ones(tokens, tokens), diagonal=1)\n",
    "attn_mask = attn_mask.masked_fill(attn_mask == 1, float('-inf'))\n",
    "attn_mask = attn_mask.masked_fill(attn_mask == 0, float(0.0))\n",
    "\n",
    "output = blockwithmaskig(x, attn_mask)\n",
    "output.shape\n"
   ]
  },
  {
   "cell_type": "code",
   "execution_count": null,
   "id": "444ba78b",
   "metadata": {},
   "outputs": [],
   "source": [
    "_LAYER_NORM = partial(nn.LayerNorm, eps = 1e-6)\n",
    "\n",
    "class SimpleTransformer(nn.Module):\n",
    "    def __init__(self, attn_target: Callable, embed_dim: int, num_blocks: int, block: Callable = BlockWithMasking,\n",
    "                 pre_transformer_layer: Optional[Callable] = None, post_transformer_layer: Optional[Callable] = None,\n",
    "                 drop_path_rate: float = 0.0, drop_path_type: str = \"progressive\", norm_layer: Callable = _LAYER_NORM,\n",
    "                 mlp_ratio: int = 4, ffn_dropout_rate: float = 0.0, layer_scale_type: Optional[str] = None,\n",
    "                 layer_scale_init_value: float = 1e-4, weight_init_style=\"jax\"):\n",
    "        \n",
    "        super().__init__()\n",
    "        \n",
    "        self.pre_transformer_layer = pre_transformer_layer\n",
    "        self.post_transformer_layer = post_transformer_layer\n",
    "        self.weight_init_style = weight_init_style\n",
    "\n",
    "        if drop_path_type == \"progressive\":\n",
    "            drop_path_rate_values = [x.item() for x in torch.linspace(0, drop_path_rate, num_blocks)]\n",
    "        elif drop_path_type == \"uniform\":\n",
    "            drop_path_rate_values = [drop_path_rate for i in range(num_blocks)]\n",
    "        else:\n",
    "            raise ValueError(f\"Unknown `drop_path_rate`, make sure it is either `progressive` or `uniform`\")\n",
    "        \n",
    "        self.blocks = nn.Sequential(\n",
    "            *[block(\n",
    "                dim = embed_dim, \n",
    "                attn_target=attn_target, \n",
    "                mlp_ratio=mlp_ratio,\n",
    "                ffn_dropout_rate = ffn_dropout_rate,\n",
    "                drop_path=drop_path_rate_values[i],\n",
    "                norm_layer = norm_layer,\n",
    "                layer_scale_init_value=layer_scale_init_value,\n",
    "                layer_scale_type=layer_scale_type\n",
    "            ) for i in range(num_blocks)]\n",
    "        )\n",
    "\n",
    "        self.apply(self._init_weights)\n",
    "    \n",
    "    def _init_weights(self, m):\n",
    "        if isinstance(m, nn.Linear):\n",
    "            if self.weight_init_style == \"jax\":                   # Based on MAE and official Jax ViT implementation\n",
    "                torch.nn.init.xavier_uniform_(m.weight)\n",
    "            elif self.weight_init_style == \"pytorch\":\n",
    "                trunc_normal_(m.weight, std=0.02)                 # PyTorch ViT uses trunc_normal_\n",
    "\n",
    "            if m.bias is not None:\n",
    "                torch.nn.init.constant_(m.bias, 0)\n",
    "                torch.nn.init.constant_(m.weight, 1.)\n",
    "    \n",
    "    def forward(self, tokens, )\n",
    "\n"
   ]
  },
  {
   "cell_type": "code",
   "execution_count": 6,
   "id": "c0f6649d",
   "metadata": {},
   "outputs": [
    {
     "data": {
      "text/plain": [
       "[0.0,\n",
       " 0.011111111380159855,\n",
       " 0.02222222276031971,\n",
       " 0.03333333507180214,\n",
       " 0.04444444552063942,\n",
       " 0.0555555559694767,\n",
       " 0.06666666269302368,\n",
       " 0.07777778059244156,\n",
       " 0.08888889104127884,\n",
       " 0.10000000149011612]"
      ]
     },
     "execution_count": 6,
     "metadata": {},
     "output_type": "execute_result"
    }
   ],
   "source": [
    "[x.item() for x in torch.linspace(0, 0.1, 10)]"
   ]
  },
  {
   "cell_type": "code",
   "execution_count": null,
   "id": "8a1fa3be",
   "metadata": {},
   "outputs": [
    {
     "data": {
      "text/plain": [
       "tensor([0.0000, 0.0111, 0.0222, 0.0333, 0.0444, 0.0556, 0.0667, 0.0778, 0.0889,\n",
       "        0.1000])"
      ]
     },
     "execution_count": 7,
     "metadata": {},
     "output_type": "execute_result"
    }
   ],
   "source": [
    "torch.linspace(0, 0.1, 10)"
   ]
  },
  {
   "cell_type": "code",
   "execution_count": null,
   "id": "8b8f6978",
   "metadata": {},
   "outputs": [],
   "source": []
  }
 ],
 "metadata": {
  "kernelspec": {
   "display_name": "Python 3",
   "language": "python",
   "name": "python3"
  },
  "language_info": {
   "codemirror_mode": {
    "name": "ipython",
    "version": 3
   },
   "file_extension": ".py",
   "mimetype": "text/x-python",
   "name": "python",
   "nbconvert_exporter": "python",
   "pygments_lexer": "ipython3",
   "version": "3.11.5"
  }
 },
 "nbformat": 4,
 "nbformat_minor": 5
}
