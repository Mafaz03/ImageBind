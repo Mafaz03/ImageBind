{
 "cells": [
  {
   "cell_type": "code",
   "execution_count": 3,
   "id": "0bed2249",
   "metadata": {},
   "outputs": [],
   "source": [
    "import torch\n",
    "from torch import nn"
   ]
  },
  {
   "cell_type": "code",
   "execution_count": 35,
   "id": "00b91a14",
   "metadata": {},
   "outputs": [
    {
     "data": {
      "text/plain": [
       "torch.Size([6, 49, 768])"
      ]
     },
     "execution_count": 35,
     "metadata": {},
     "output_type": "execute_result"
    }
   ],
   "source": [
    "class Attention(nn.Module):\n",
    "    def __init__(self, dim, num_heads: int = 8, qkv_bias=False, qk_scale=None, attn_drop=0.0, proj_drop=0.0):\n",
    "        super().__init__()\n",
    "        \n",
    "        self.num_heads = num_heads\n",
    "        head_dim = dim // num_heads\n",
    "\n",
    "        self.scale = qk_scale or head_dim**-0.5\n",
    "\n",
    "        self.qkv = nn.Linear(in_features=dim, out_features=dim*3, bias=qkv_bias)\n",
    "        self.attn_drop = nn.Dropout(0.0)\n",
    "        self.proj = nn.Linear(dim, dim)\n",
    "        self.proj_drop = nn.Dropout(0.0)\n",
    "\n",
    "    def forward(self, x): \n",
    "        B, N, C = x.shape # B = Batch size, N = Number of Tokens, C = Channels or Feature Dimensions\n",
    "        qkv = self.qkv(x).reshape(B, N, 3, self.num_heads, C // self.num_heads) # (B, N, C) -> (B, N, 3, num_heads, head_dim) \n",
    "        qkv = (qkv.permute(2, 0, 3, 1, 4)) # (B, N, 3, num_heads, head_dim) -> (3, B, num_heads, N, head_dim)\n",
    "        q = qkv[0] # (B, num_heads, N, head_dim)\n",
    "        k = qkv[1] # (B, num_heads, N, head_dim)\n",
    "        v = qkv[2] # (B, num_heads, N, head_dim)\n",
    "\n",
    "        attn = q @ k.transpose(-2, -1) * self.scale  # Attention scores: (B, num_heads, N, N)\n",
    "        attn = attn.softmax(dim=-1) # Softmax across tokens (last dim, N)\n",
    "        attn = self.attn_drop(attn)\n",
    "\n",
    "        x = (attn @ v).transpose(1,2) # (B, num_heads, N, head_dim) -> (B, N, num_heads, head_dim)\n",
    "        x = x.reshape(B, N, C) # (B, N, num_heads, head_dim) -> (B, N, C)\n",
    "        x = self.proj_drop(x)\n",
    "        return x\n",
    "attention = Attention(dim = 768)\n",
    "x = torch.rand(6, 49, 768)\n",
    "attention(x).shape"
   ]
  },
  {
   "cell_type": "code",
   "execution_count": null,
   "id": "bc7c5efe",
   "metadata": {},
   "outputs": [],
   "source": []
  },
  {
   "cell_type": "code",
   "execution_count": null,
   "id": "d69c2e77",
   "metadata": {},
   "outputs": [],
   "source": []
  },
  {
   "cell_type": "code",
   "execution_count": null,
   "id": "121d0ec0",
   "metadata": {},
   "outputs": [],
   "source": []
  },
  {
   "cell_type": "code",
   "execution_count": null,
   "id": "322459eb",
   "metadata": {},
   "outputs": [],
   "source": []
  },
  {
   "cell_type": "code",
   "execution_count": null,
   "id": "8b10674e",
   "metadata": {},
   "outputs": [],
   "source": []
  }
 ],
 "metadata": {
  "kernelspec": {
   "display_name": "Python 3",
   "language": "python",
   "name": "python3"
  },
  "language_info": {
   "codemirror_mode": {
    "name": "ipython",
    "version": 3
   },
   "file_extension": ".py",
   "mimetype": "text/x-python",
   "name": "python",
   "nbconvert_exporter": "python",
   "pygments_lexer": "ipython3",
   "version": "3.11.5"
  }
 },
 "nbformat": 4,
 "nbformat_minor": 5
}
