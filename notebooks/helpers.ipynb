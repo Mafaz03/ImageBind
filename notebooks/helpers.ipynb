{
 "cells": [
  {
   "cell_type": "code",
   "execution_count": 1,
   "id": "18e856c3",
   "metadata": {},
   "outputs": [],
   "source": [
    "import torch\n",
    "from torch import nn\n",
    "import numpy as np"
   ]
  },
  {
   "cell_type": "code",
   "execution_count": 33,
   "id": "1aa59dc2",
   "metadata": {},
   "outputs": [],
   "source": [
    "class LearnableLogitScaling(nn.Module):\n",
    "    def __init__(\n",
    "        self, \n",
    "        logit_scale_init: float = 1 / 0.07,\n",
    "        learnable: bool = True,\n",
    "        max_logit_scale: float = 100\n",
    "        ):\n",
    "        super().__init__()\n",
    "        self.logit_scale_init = logit_scale_init\n",
    "        self.learnable = learnable\n",
    "        self.max_logit_scale = max_logit_scale\n",
    "\n",
    "        log_logit_scale = torch.ones([]) * np.log(self.logit_scale_init)\n",
    "\n",
    "        if self.learnable: self.log_logit_scale = nn.Parameter(log_logit_scale)\n",
    "        else:              self.register_buffer(\"log_logit_scale\", log_logit_scale)\n",
    "\n",
    "    def forward(self, x):\n",
    "        clipped = torch.clip(self.log_logit_scale.exp(), max = self.max_logit_scale)\n",
    "        return clipped * x\n",
    "    \n",
    "    def extra_repr(self):\n",
    "        st = f\"logit_scale_init={self.logit_scale_init},learnable={self.learnable},\" \\\n",
    "             f\" max_logit_scale={self.max_logit_scale}\"\n",
    "        return st"
   ]
  },
  {
   "cell_type": "code",
   "execution_count": 34,
   "id": "4f9daaae",
   "metadata": {},
   "outputs": [
    {
     "data": {
      "text/plain": [
       "tensor([[ 2.4878, 13.3646],\n",
       "        [12.9722,  6.9665]], grad_fn=<MulBackward0>)"
      ]
     },
     "execution_count": 34,
     "metadata": {},
     "output_type": "execute_result"
    }
   ],
   "source": [
    "learnablelogitscale = LearnableLogitScaling()\n",
    "learnablelogitscale(torch.rand(2,2))"
   ]
  },
  {
   "cell_type": "code",
   "execution_count": 35,
   "id": "2e45a7a4",
   "metadata": {},
   "outputs": [
    {
     "data": {
      "text/plain": [
       "LearnableLogitScaling(logit_scale_init=14.285714285714285,learnable=True, max_logit_scale=100)"
      ]
     },
     "execution_count": 35,
     "metadata": {},
     "output_type": "execute_result"
    }
   ],
   "source": [
    "learnablelogitscale"
   ]
  },
  {
   "cell_type": "code",
   "execution_count": 47,
   "id": "2bae63b8",
   "metadata": {},
   "outputs": [
    {
     "data": {
      "text/plain": [
       "torch.Size([2, 224, 224])"
      ]
     },
     "execution_count": 47,
     "metadata": {},
     "output_type": "execute_result"
    }
   ],
   "source": [
    "class SelectElement(nn.Module):\n",
    "    def __init__(self, index):\n",
    "        super().__init__()\n",
    "        self.index = index\n",
    "    \n",
    "    def forward(self, x):\n",
    "        assert x.ndim >= 3\n",
    "        return x[:, self.index, ...]\n",
    "\n",
    "x = torch.rand(2, 3, 224, 224)\n",
    "selector = SelectElement(index = 0)\n",
    "selector(x).shape"
   ]
  },
  {
   "cell_type": "code",
   "execution_count": 52,
   "id": "d3f51b12",
   "metadata": {},
   "outputs": [
    {
     "data": {
      "text/plain": [
       "torch.Size([2, 3, 224, 224])"
      ]
     },
     "execution_count": 52,
     "metadata": {},
     "output_type": "execute_result"
    }
   ],
   "source": [
    "class Normalize(nn.Module):\n",
    "    def __init__(self, dim):\n",
    "        super().__init__()\n",
    "        self.dim = dim\n",
    "    def forward(self, x):\n",
    "        return nn.functional.normalize(x, p = 2, dim = self.dim)\n",
    "\n",
    "x = torch.rand(2, 3, 224, 224)\n",
    "normalize = Normalize(2)\n",
    "normalize(x).shape"
   ]
  },
  {
   "cell_type": "code",
   "execution_count": null,
   "id": "489fc08f",
   "metadata": {},
   "outputs": [],
   "source": []
  }
 ],
 "metadata": {
  "kernelspec": {
   "display_name": "Python 3",
   "language": "python",
   "name": "python3"
  },
  "language_info": {
   "codemirror_mode": {
    "name": "ipython",
    "version": 3
   },
   "file_extension": ".py",
   "mimetype": "text/x-python",
   "name": "python",
   "nbconvert_exporter": "python",
   "pygments_lexer": "ipython3",
   "version": "3.11.5"
  }
 },
 "nbformat": 4,
 "nbformat_minor": 5
}
