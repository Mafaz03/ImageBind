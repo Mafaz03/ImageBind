{
 "cells": [
  {
   "cell_type": "code",
   "execution_count": 13,
   "id": "81a029ee",
   "metadata": {},
   "outputs": [],
   "source": [
    "from imagebind_dataloader import ImageText_DataLoader, VideoText_DataLoader\n",
    "import torch\n",
    "from torch import nn\n",
    "from config import EPOCHS, IMAGE_TRANSFORM, VIDEO_TRANSFORM, DEVICE\n",
    "from torch.utils.data import DataLoader\n",
    "from model import ImageBindModel, ModalityType\n",
    "\n",
    "import torch.nn.functional as F\n",
    "from tqdm import tqdm\n"
   ]
  },
  {
   "cell_type": "code",
   "execution_count": 9,
   "id": "0116cd61",
   "metadata": {},
   "outputs": [],
   "source": [
    "\n",
    "image_ds = ImageText_DataLoader(image_paths = \"Data/Image_Data\", transform = IMAGE_TRANSFORM)\n",
    "image_dl = DataLoader(image_ds, batch_size=2, shuffle=True)\n",
    "\n",
    "video_ds = VideoText_DataLoader(video_paths = \"Data/Video_Data\", transform = VIDEO_TRANSFORM)\n",
    "video_dl = DataLoader(video_ds, batch_size=2, shuffle=True)\n",
    "\n",
    "model = ImageBindModel()"
   ]
  },
  {
   "cell_type": "code",
   "execution_count": 16,
   "id": "6d0fdedc",
   "metadata": {},
   "outputs": [
    {
     "name": "stderr",
     "output_type": "stream",
     "text": [
      "Epoch 1/2: 0it [00:01, ?it/s]\n"
     ]
    },
    {
     "ename": "RuntimeError",
     "evalue": "mat1 and mat2 shapes cannot be multiplied (2x768 and 2x768)",
     "output_type": "error",
     "traceback": [
      "\u001b[0;31m---------------------------------------------------------------------------\u001b[0m",
      "\u001b[0;31mRuntimeError\u001b[0m                              Traceback (most recent call last)",
      "Cell \u001b[0;32mIn[16], line 30\u001b[0m\n\u001b[1;32m     24\u001b[0m embeddings \u001b[38;5;241m=\u001b[39m model(inputs)\n\u001b[1;32m     26\u001b[0m \u001b[38;5;66;03m# emb_image = F.normalize(embeddings[ModalityType.VISION], dim=-1)\u001b[39;00m\n\u001b[1;32m     27\u001b[0m \u001b[38;5;66;03m# emb_text = F.normalize(embeddings[ModalityType.TEXT], dim=-1)\u001b[39;00m\n\u001b[1;32m     28\u001b[0m \n\u001b[1;32m     29\u001b[0m \u001b[38;5;66;03m# Compute cosine similarity logits\u001b[39;00m\n\u001b[0;32m---> 30\u001b[0m logits \u001b[38;5;241m=\u001b[39m \u001b[43membeddings\u001b[49m\u001b[43m[\u001b[49m\u001b[38;5;124;43m'\u001b[39;49m\u001b[38;5;124;43mvision\u001b[39;49m\u001b[38;5;124;43m'\u001b[39;49m\u001b[43m]\u001b[49m\u001b[43m \u001b[49m\u001b[38;5;241;43m@\u001b[39;49m\u001b[43m \u001b[49m\u001b[43membeddings\u001b[49m\u001b[43m[\u001b[49m\u001b[38;5;124;43m'\u001b[39;49m\u001b[38;5;124;43mtext\u001b[39;49m\u001b[38;5;124;43m'\u001b[39;49m\u001b[43m]\u001b[49m\n\u001b[1;32m     32\u001b[0m \u001b[38;5;66;03m# InfoNCE Loss\u001b[39;00m\n\u001b[1;32m     33\u001b[0m labels \u001b[38;5;241m=\u001b[39m torch\u001b[38;5;241m.\u001b[39marange(logits\u001b[38;5;241m.\u001b[39msize(\u001b[38;5;241m0\u001b[39m), device\u001b[38;5;241m=\u001b[39mDEVICE)\n",
      "\u001b[0;31mRuntimeError\u001b[0m: mat1 and mat2 shapes cannot be multiplied (2x768 and 2x768)"
     ]
    }
   ],
   "source": [
    "optimizer = torch.optim.AdamW(model.parameters(), lr=1e-4)\n",
    "EPOCHS = 2\n",
    "DEVICE = \"cuda\" if torch.cuda.is_available() else \"cpu\"\n",
    "model.to(DEVICE)\n",
    "\n",
    "# Training Loop\n",
    "for epoch in range(EPOCHS):\n",
    "    model.train()\n",
    "    total_loss = 0.0\n",
    "    step = 0\n",
    "\n",
    "    pbar = tqdm(zip(image_dl, video_dl), desc=f\"Epoch {epoch+1}/{EPOCHS}\")\n",
    "\n",
    "    for image_batch, video_batch in pbar:\n",
    "        # Unpack image-text batch\n",
    "        image, text = image_batch\n",
    "        image, text = image.to(DEVICE), text.to(DEVICE)\n",
    "\n",
    "        inputs = {\n",
    "            ModalityType.VISION: image,\n",
    "            ModalityType.TEXT: text\n",
    "        }\n",
    "\n",
    "        embeddings = model(inputs)\n",
    "\n",
    "        # emb_image = F.normalize(embeddings[ModalityType.VISION], dim=-1)\n",
    "        # emb_text = F.normalize(embeddings[ModalityType.TEXT], dim=-1)\n",
    "\n",
    "        # Compute cosine similarity logits\n",
    "        logits = embeddings['vision'] @ embeddings['text']\n",
    "\n",
    "        # InfoNCE Loss\n",
    "        labels = torch.arange(logits.size(0), device=DEVICE)\n",
    "        loss_i2t = F.cross_entropy(logits, labels)\n",
    "        loss_t2i = F.cross_entropy(logits.T, labels)\n",
    "        loss = (loss_i2t + loss_t2i) / 2\n",
    "\n",
    "        optimizer.zero_grad()\n",
    "        loss.backward()\n",
    "        optimizer.step()\n",
    "\n",
    "        total_loss += loss.item()\n",
    "        print(total_loss)\n",
    "        step += 1\n",
    "        pbar.set_postfix({\"Loss\": total_loss / step})\n",
    "\n",
    "    avg_loss = total_loss / step\n",
    "    print(f\"[Epoch {epoch+1}] Avg InfoNCE Loss: {avg_loss:.4f}\")"
   ]
  },
  {
   "cell_type": "code",
   "execution_count": null,
   "id": "ab479ec9",
   "metadata": {},
   "outputs": [],
   "source": []
  },
  {
   "cell_type": "code",
   "execution_count": null,
   "id": "34146aa6",
   "metadata": {},
   "outputs": [],
   "source": []
  }
 ],
 "metadata": {
  "kernelspec": {
   "display_name": "Python 3",
   "language": "python",
   "name": "python3"
  },
  "language_info": {
   "codemirror_mode": {
    "name": "ipython",
    "version": 3
   },
   "file_extension": ".py",
   "mimetype": "text/x-python",
   "name": "python",
   "nbconvert_exporter": "python",
   "pygments_lexer": "ipython3",
   "version": "3.11.5"
  }
 },
 "nbformat": 4,
 "nbformat_minor": 5
}
