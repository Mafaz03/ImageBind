{
 "cells": [
  {
   "cell_type": "code",
   "execution_count": 1,
   "id": "5e26713f",
   "metadata": {},
   "outputs": [],
   "source": [
    "import os\n",
    "from functools import partial\n",
    "from types import SimpleNamespace\n",
    "\n",
    "import torch\n",
    "from torch import nn"
   ]
  },
  {
   "cell_type": "code",
   "execution_count": 3,
   "id": "87f190d1",
   "metadata": {},
   "outputs": [],
   "source": [
    "from helpers import LearnableLogitScaling, SelectElement, Normalize\n",
    "from multimodal_processors import TextPreprocessor, Im2Video, PadIm2Video, PatchEmbedGeneric, SpatioTemporal_posEmbeddingHelper, RGBTProcessor\n",
    "from transformer import MultiheadAttention, SimpleTransformer"
   ]
  },
  {
   "cell_type": "code",
   "execution_count": 17,
   "id": "62a1d466",
   "metadata": {},
   "outputs": [],
   "source": [
    "ModalityType = SimpleNamespace(\n",
    "    VISION=\"vision\",\n",
    "    TEXT=\"text\",\n",
    ")"
   ]
  },
  {
   "cell_type": "code",
   "execution_count": null,
   "id": "ae1f837a",
   "metadata": {},
   "outputs": [],
   "source": [
    "class ImageBindModel(nn.Module):\n",
    "    def __init__(\n",
    "        self,\n",
    "        video_frames=2,\n",
    "        kernel_size=(2, 14, 14),\n",
    "        out_embed_dim=768,\n",
    "\n",
    "        vision_embed_dim=1024,\n",
    "        vision_num_blocks=24,\n",
    "        vision_num_heads=16,\n",
    "\n",
    "        text_embed_dim=768,\n",
    "        text_num_blocks=12,\n",
    "        text_num_heads=12,\n",
    "    ):\n",
    "        super().__init__()\n",
    "\n",
    "        self.modality_preprocessors = self._create_modality_preprocessors(\n",
    "            video_frames,\n",
    "            vision_embed_dim,\n",
    "            kernel_size,\n",
    "            text_embed_dim,\n",
    "        )\n",
    "\n",
    "    def _create_modality_preprocessors(\n",
    "        self,\n",
    "        video_frames=2,\n",
    "        vision_embed_dim=1024,\n",
    "        kernel_size=(2, 14, 14),\n",
    "\n",
    "        text_embed_dim=768,\n",
    "    ):\n",
    "        rgbt_stem = PatchEmbedGeneric(\n",
    "            proj_stem =\n",
    "            [\n",
    "                PadIm2Video(ntimes=2, pad_type=\"repeat\"), \n",
    "                nn.Conv3d(\n",
    "                    in_channels=3,\n",
    "                    kernel_size=kernel_size,\n",
    "                    out_channels=vision_embed_dim,\n",
    "                    stride=kernel_size,\n",
    "                    bias=False,\n",
    "                )\n",
    "            \n",
    "            ]\n",
    "        )\n",
    "\n",
    "        rgbt_preprocessor = RGBTProcessor(\n",
    "            rgbt_stem = rgbt_stem,\n",
    "            img_size = [3, video_frames, 224, 224],\n",
    "            num_cls_token=1,\n",
    "            pos_embed_fn=partial(SpatioTemporal_posEmbeddingHelper, learnable=True),\n",
    "        )\n",
    "\n",
    "        text_preprocessor = TextPreprocessor(\n",
    "            context_length = 77,\n",
    "            vocab_size = 49408,\n",
    "            embed_dim=text_embed_dim,\n",
    "            causual_mask=True,\n",
    "        )\n",
    "\n",
    "        modality_preprocessors = {\n",
    "            ModalityType.VISION: rgbt_preprocessor,\n",
    "            ModalityType.TEXT: text_preprocessor,\n",
    "        }\n",
    "\n",
    "        return nn.ModuleDict(modality_preprocessors)\n",
    "\n",
    "    def _create_modality_trunks(\n",
    "        self,\n",
    "        vision_embed_dim=1024,\n",
    "        vision_num_blocks=24,\n",
    "        vision_num_heads=16,\n",
    "\n",
    "        text_embed_dim=768,\n",
    "        text_num_blocks=12,\n",
    "        text_num_heads=12,\n",
    "\n",
    "    ):\n",
    "        "
   ]
  },
  {
   "cell_type": "code",
   "execution_count": 22,
   "id": "fcb5a932",
   "metadata": {},
   "outputs": [
    {
     "data": {
      "text/plain": [
       "ModuleDict(\n",
       "  (vision): RGBTProcessor(\n",
       "    (rgbt_stem): PatchEmbedGeneric(\n",
       "      (proj): Sequential(\n",
       "        (0): PadIm2Video()\n",
       "        (1): Conv3d(3, 1024, kernel_size=(2, 14, 14), stride=(2, 14, 14), bias=False)\n",
       "      )\n",
       "    )\n",
       "    (pos_embed_helper): SpatioTemporal_posEmbeddingHelper()\n",
       "  )\n",
       "  (text): TextPreprocessor(\n",
       "    (mask): tensor((77, 77), requires_grad=False)\n",
       "    \n",
       "    (token_embedding): Embedding(49408, 768)\n",
       "  )\n",
       ")"
      ]
     },
     "execution_count": 22,
     "metadata": {},
     "output_type": "execute_result"
    }
   ],
   "source": [
    "imagebindmodel = ImageBindModel()\n",
    "imagebindmodel.modality_preprocessors"
   ]
  },
  {
   "cell_type": "code",
   "execution_count": null,
   "id": "db46fad9",
   "metadata": {},
   "outputs": [],
   "source": []
  },
  {
   "cell_type": "code",
   "execution_count": null,
   "id": "3daa7cda",
   "metadata": {},
   "outputs": [],
   "source": []
  },
  {
   "cell_type": "code",
   "execution_count": null,
   "id": "3468611c",
   "metadata": {},
   "outputs": [],
   "source": []
  }
 ],
 "metadata": {
  "kernelspec": {
   "display_name": "Python 3",
   "language": "python",
   "name": "python3"
  },
  "language_info": {
   "codemirror_mode": {
    "name": "ipython",
    "version": 3
   },
   "file_extension": ".py",
   "mimetype": "text/x-python",
   "name": "python",
   "nbconvert_exporter": "python",
   "pygments_lexer": "ipython3",
   "version": "3.11.5"
  }
 },
 "nbformat": 4,
 "nbformat_minor": 5
}
